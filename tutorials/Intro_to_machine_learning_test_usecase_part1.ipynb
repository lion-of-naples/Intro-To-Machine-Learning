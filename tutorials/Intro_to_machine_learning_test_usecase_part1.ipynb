{
  "nbformat": 4,
  "nbformat_minor": 0,
  "metadata": {
    "colab": {
      "provenance": [],
      "collapsed_sections": [
        "AcBxLbPdYvnI",
        "qQKdWwJQB2dk"
      ]
    },
    "kernelspec": {
      "name": "python3",
      "display_name": "Python 3"
    },
    "language_info": {
      "name": "python"
    }
  },
  "cells": [
    {
      "cell_type": "markdown",
      "source": [
        "# Introduction to Machine Learning - School Test Analysis Use Case (part 1)\n",
        "\n",
        "---\n",
        "\n",
        "In this three part tutorial you will learn some of the basics of machine learning by exploring a \"fake\" dataset of elementary school test results from a pretest and then a post test. There are columns of attributes which correspond to different factors (also called features) which contribute to the post test scores.\n",
        "\n",
        "<ul>\n",
        "<li>The overall goal at the end of the third notebook is to utilize this dataset to train and test machine learning algorithms. Part of the data will be used to train the algorithm and part will be used to test it to see how well we did on our predictions.\n",
        "\n",
        "<li>We will use this dataset for all three of the notebooks.\n",
        "\n",
        "<li>In additional tutorials we will explore other machine learning topics like language models and neural networks which are the technologies behind Generative AI and the chatbots they power such as ChatGPT.\n",
        "\n",
        "</ul>\n",
        "\n",
        "\n",
        "**Our goal is to give you an understanding of the basics so you can experiment and one day create your own innovative solutions!**"
      ],
      "metadata": {
        "id": "8gSybBeoKzRm"
      }
    },
    {
      "cell_type": "markdown",
      "source": [
        "#Part 1: Getting Started and Setting up Your Workflow\n",
        "For these tutorials we will use .ipynb files which are a notebook filesystem you can use on a variety of platforms. We will be describing how to access it and use it in Google Colaboratory (**Google Colab**), which is available free as part of the Google Suite of tools.\n",
        "\n",
        "In this notebook, we will walk you through the setup and will provide the initial data and basic analysis functions to get you started."
      ],
      "metadata": {
        "id": "UpYxFsfzAa4_"
      }
    },
    {
      "cell_type": "markdown",
      "source": [
        "#Setting up our tools and adding data\n",
        "\n",
        "---\n",
        "\n",
        "Before we begin, let's start with a quick description of the tools we will use. For this task we will use the Python programming language version 3 and libraries that Python can use to accomplish the work. Python is the language this Jupyter notebook is based on so there is some functionality that we could use without additional libraries (**there are other options available but we won't use them in this tutorial**). To do the type of analysis and model building we are interested in, we need to add libraries that work with Python to accomplish our desired tasks.\n"
      ],
      "metadata": {
        "id": "I8YazX9YSw2h"
      }
    },
    {
      "cell_type": "markdown",
      "source": [
        "##Functionality without additional libraries\n",
        "Run the cells below for an example of the type of actions Python can do without libraries. If you are already familiar with Python and how the libraries work, you can skip this section."
      ],
      "metadata": {
        "id": "6FsDQB8-Ujuo"
      }
    },
    {
      "cell_type": "code",
      "source": [
        "# Addition\n",
        "5 + 2"
      ],
      "metadata": {
        "colab": {
          "base_uri": "https://localhost:8080/"
        },
        "id": "rClGd9nBU-6F",
        "outputId": "afab51f6-ba9b-401c-bbaa-8bbb25e68188"
      },
      "execution_count": null,
      "outputs": [
        {
          "output_type": "execute_result",
          "data": {
            "text/plain": [
              "7"
            ]
          },
          "metadata": {},
          "execution_count": 1
        }
      ]
    },
    {
      "cell_type": "code",
      "source": [
        "# Subtraction\n",
        "5 - 2"
      ],
      "metadata": {
        "colab": {
          "base_uri": "https://localhost:8080/"
        },
        "id": "gqNSeNnFVnh9",
        "outputId": "569fa938-207e-4823-cf1a-05527aebd908"
      },
      "execution_count": null,
      "outputs": [
        {
          "output_type": "execute_result",
          "data": {
            "text/plain": [
              "3"
            ]
          },
          "metadata": {},
          "execution_count": 2
        }
      ]
    },
    {
      "cell_type": "code",
      "source": [
        "# Multiplication\n",
        "5 * 2"
      ],
      "metadata": {
        "colab": {
          "base_uri": "https://localhost:8080/"
        },
        "id": "u9k2UVmDVsic",
        "outputId": "fe6e80e3-0338-4fb9-a368-b3bf9964c6f2"
      },
      "execution_count": null,
      "outputs": [
        {
          "output_type": "execute_result",
          "data": {
            "text/plain": [
              "10"
            ]
          },
          "metadata": {},
          "execution_count": 3
        }
      ]
    },
    {
      "cell_type": "code",
      "source": [
        "# Exponents\n",
        "5 ** 2"
      ],
      "metadata": {
        "colab": {
          "base_uri": "https://localhost:8080/"
        },
        "id": "ZyM0xKWiVySG",
        "outputId": "f389127f-2305-42dc-b3ce-438e5c5ac393"
      },
      "execution_count": null,
      "outputs": [
        {
          "output_type": "execute_result",
          "data": {
            "text/plain": [
              "25"
            ]
          },
          "metadata": {},
          "execution_count": 4
        }
      ]
    },
    {
      "cell_type": "code",
      "source": [
        "# Storing values in variables and performing actions on the variables\n",
        "\n",
        "five = 5\n",
        "two = 2\n",
        "\n",
        "Addition = five + two\n",
        "Subtraction = five - two\n",
        "Exponent = five ** two\n",
        "\n",
        "print(Addition)\n",
        "print(Subtraction)\n",
        "print(Exponent)"
      ],
      "metadata": {
        "colab": {
          "base_uri": "https://localhost:8080/"
        },
        "id": "kA3dyqCFV7g7",
        "outputId": "dc3edbd9-30ca-4861-adaa-b9c1bf55099b"
      },
      "execution_count": null,
      "outputs": [
        {
          "output_type": "stream",
          "name": "stdout",
          "text": [
            "7\n",
            "3\n",
            "25\n"
          ]
        }
      ]
    },
    {
      "cell_type": "code",
      "source": [
        "# Add more context to the numbers\n",
        "# There are many ways to print and manipulate values in python. These are just a few to show the power of the language.\n",
        "\n",
        "print('Five plus two = ',Addition)\n",
        "print('Five minus two = ',Subtraction)\n",
        "print('Five to the second exponent = ',Exponent)"
      ],
      "metadata": {
        "colab": {
          "base_uri": "https://localhost:8080/"
        },
        "id": "VAdus-w8WpEy",
        "outputId": "dff098a0-0e94-46ef-dfb7-1f576cd245eb"
      },
      "execution_count": null,
      "outputs": [
        {
          "output_type": "stream",
          "name": "stdout",
          "text": [
            "Five plus two =  7\n",
            "Five minus two =  3\n",
            "Five to the second exponent =  25\n"
          ]
        }
      ]
    },
    {
      "cell_type": "markdown",
      "source": [
        "## Add the libraries we need\n",
        "\n",
        "Add libraries to add the tools we need to read, analyze, and build models with the data. Run the code cell below to add the libraries we need."
      ],
      "metadata": {
        "id": "1VqCo7qPX1bJ"
      }
    },
    {
      "cell_type": "code",
      "source": [
        "# These library packages are installed in the Python 3 environment but you have to load them in order to use them in your environment.\n",
        "# Hit the arrow button to the left to run this cell and load the library packages\n",
        "\n",
        "# basic library packages\n",
        "import numpy as np\n",
        "import pandas as pd\n",
        "import matplotlib as mpl\n",
        "import matplotlib.pyplot as plt\n",
        "import seaborn as sns\n",
        "import sklearn\n",
        "\n",
        "# specific library packages for machine learning from the sklearn library\n",
        "from sklearn.linear_model import LogisticRegression\n",
        "from sklearn.svm import SVC, LinearSVC\n",
        "from sklearn.ensemble import RandomForestClassifier\n",
        "from sklearn.neighbors import KNeighborsClassifier\n",
        "from sklearn.naive_bayes import GaussianNB\n",
        "from sklearn.linear_model import Perceptron\n",
        "from sklearn.linear_model import SGDClassifier\n",
        "from sklearn.tree import DecisionTreeClassifier\n",
        "from sklearn.metrics import accuracy_score"
      ],
      "metadata": {
        "id": "aUdr7THyikDW"
      },
      "execution_count": null,
      "outputs": []
    },
    {
      "cell_type": "markdown",
      "source": [
        "##Add the data we plan to use\n",
        "In order to do an analysis on data, we need data 😀! Here are the basic steps to add data to your Google Colab environment. If you need details for each step, review the instructions in the subfolders below.\n",
        "\n",
        "\n",
        "1.   Copy and paste the following URL into your web browser to the location where the data comes from: https://www.kaggle.com/datasets/kwadwoofosu/predict-test-scores-of-students\n",
        "\n",
        "2.   Sign in or create a Kaggle Account (it's free!)\n",
        "\n",
        "3.   Download the data to your computer\n",
        "\n",
        "4.   Upload the data to your colab environment\n",
        "\n",
        "5.   Hover over the location of your data in the file pane on the left of the colab window.\n",
        "\n",
        "4.   Write down where the data is located in your colab file system. In my file system it looks like this: /content/test_scores.csv\n",
        "We will use this location later in order to pull the information into our notebook for analysis.\n",
        "\n"
      ],
      "metadata": {
        "id": "AcBxLbPdYvnI"
      }
    },
    {
      "cell_type": "markdown",
      "source": [
        "###**Getting Data from Kaggle.com (steps 1 - 3 from above)**\n",
        "After you navigate to the data on kaggle.com and are able to sign-in you need to download the data. Below is a screenshot of how you download the data.  \n",
        "\n",
        "---\n",
        "\n",
        "<img src=\"https://img1.wsimg.com/isteam/ip/cd1122cd-7b26-4fd3-b2d9-8bea62e6bca1/data_download.png/:/rs=w:1560,h:576\">"
      ],
      "metadata": {
        "id": "qQKdWwJQB2dk"
      }
    },
    {
      "cell_type": "markdown",
      "source": [
        "###**Uploading the data to your colab environment (step 4 from above)**\n",
        "Now that you have downloaded your data to your computer, you need to upload it to your colab environment. The images below show you how that is done.\n",
        "\n",
        "---\n",
        "\n",
        "**(a) Click on the \"folder\" icon on the left of your screen. This will open the files pane.**\n",
        "<img src=\"https://img1.wsimg.com/isteam/ip/cd1122cd-7b26-4fd3-b2d9-8bea62e6bca1/upload.png/:/rs=w:2560,h:1852\">\n",
        "\n",
        "\n",
        "---\n",
        "\n",
        "\n",
        "**(b) Next you will click on the \"upload file\" folder and navigate to where your file was downloaded on your computer.**\n",
        "\n",
        "<img src=\"https://img1.wsimg.com/blobby/go/cd1122cd-7b26-4fd3-b2d9-8bea62e6bca1/downloads/navigate_to_data.png?ver=1680980134208\">\n",
        "\n",
        "\n",
        "---\n",
        "\n",
        "\n",
        "**(c) Once you find the file with your data, click on the file to upload it to colab.**\n",
        "<img src=\"https://img1.wsimg.com/isteam/ip/cd1122cd-7b26-4fd3-b2d9-8bea62e6bca1/navigate_to_file.png/:/rs=w:2560,h:2067\">"
      ],
      "metadata": {
        "id": "EbAxXJAUESf8"
      }
    },
    {
      "cell_type": "markdown",
      "source": [
        "###**Warning about data disappearing after exiting**\n",
        "When you upload data into colab, the data is in what we call a non-persistent state. This means the data will not remain once you exit the program or even after a period of time in which you have not been active on the code. This is OK, because all you have to do is follow step 4 from above to upload the data again from the location it was downloaded before. Click OK on the screen to proceed.\n",
        "\n",
        "---\n",
        "\n",
        "\n",
        "\n",
        "<img src=\"https://img1.wsimg.com/isteam/ip/cd1122cd-7b26-4fd3-b2d9-8bea62e6bca1/warning.png/:/rs=w:984,h:572\">"
      ],
      "metadata": {
        "id": "pZjYeArLRZkh"
      }
    },
    {
      "cell_type": "markdown",
      "source": [
        "###**Find and write down the location of your data for later use**\n",
        "After uploading your data, you need to identify the address it is located in on the colab file system. To do this, you hover over the name of your data in the \"Files\" pane, and click on the three dots to the right of the file name. Click on copy path and then save this location for later.\n",
        "\n",
        "---\n",
        "\n",
        "\n",
        "<img src=\"https://img1.wsimg.com/blobby/go/cd1122cd-7b26-4fd3-b2d9-8bea62e6bca1/downloads/copy_path.png?ver=1680980808236\">"
      ],
      "metadata": {
        "id": "wCqwB1t7P3sJ"
      }
    },
    {
      "cell_type": "markdown",
      "source": [
        "# Defining the problem and understanding the background of the data\n",
        "\n",
        "Defining the problem and determining if your available data can solve the problem is an often overlooked part of artificial intelligence (AI) and machine learning (ML). Our goal should be to build algorithms out of data that accurately represents whatever it is you plan on modeling and predicting. This is really hard to do if you don't know the context or background of the data. The remainder of this text cell contains a minimal description of the problem and the data we are using to address the problem.\n",
        "\n",
        "---\n",
        "**Background context.** We have identified a dataset that describes how a group of students performed on a test. The scores on the tests follow a relatively \"normal\" distribution, meaning a few of the students scored very high on the test, a few of the students scored very low on the test, and most of the students scored somewhere in-between. The data includes recorded activities that happened or were experienced after the pretest and before the students took the post test. These activities are also often called factors, fields, or features. We will try to use the word features to describe these activities once they are being used in the model.\n",
        "\n",
        "\n",
        "---\n",
        "**The problem.** In general, we assume that there are a group of students that would love to do well on this test. These students could benefit from a prediction system that evaluates activities (features in the model), and then outputs a prediction of how well a student that experienced those activies will do on the test. This student and/or their guardians could then identify what activities they need to focus on in order to improve their score in the future.\n",
        "\n",
        "---\n",
        "\n",
        "**The dataset.** Our dataset is one of the sample files from the IBM Statistical Package for the Social Sciences (SPSS). The dataset uses a student number and no names so no personal information is exposed. Although not confirmed, we believe the dataset is fabricated and is only used for the purposes of testing analytical methods, so we do not have any proof that these values represent how a real (human) student is modeled. The image below shows what the data looks like in a comma separated value (csv) file which is the format we will use to input the data. This is a common way to save data that will be used as input for Machine Learning or Artificial Intelligence algorithms. This type of file is often generated using the Microsoft Excel application.\n",
        "\n",
        "---\n",
        "\n",
        "\n",
        "<img src=\"https://img1.wsimg.com/isteam/ip/cd1122cd-7b26-4fd3-b2d9-8bea62e6bca1/test_scores.png/:/rs=w:1160,h:471\">\n",
        "\n",
        "\n",
        "---\n",
        "\n"
      ],
      "metadata": {
        "id": "jVttA-6UMvG_"
      }
    },
    {
      "cell_type": "markdown",
      "source": [
        "**Description of the features.** As mentioned earlier the activities the students conducted before the post test is recorded in fields. Each column is a field. These fields are utilized in our algorithms as features and they are just attributes to describe each student's experience with an activity that we believe is related to how they performed on the post test. We will use these attributes (features) to train our machine learning models to predict what new students that have similar features will score on their test. In our machine learning models, features are weighted individually and in combination with each other in order to add or take away from the ability to make predictions.\n",
        "\n",
        "---\n",
        "\n",
        "\n",
        "\n",
        "\n",
        "<center> <b> Short Description of Features </b> </center>\n",
        "\n",
        "**school:** Name of the school the student is enrolled in.\n",
        "\n",
        "**school_setting:** The location of the school\n",
        "\n",
        "**school_type:** The type of school. Either public or non-public\n",
        "\n",
        "**classroom:** The type of classroom\n",
        "\n",
        "**teaching_method:** Either experimental or Standard\n",
        "\n",
        "**n_student:** Number of students in the class\n",
        "\n",
        "**student_id:** A unique ID for each student\n",
        "\n",
        "**gender:** The gender of the students: male or female\n",
        "\n",
        "**lunch:** Whether a student qualifies for free/subsidized lunch or not\n",
        "\n",
        "**pretest:** The pretest score of the students out of 100\n",
        "\n",
        "**posttest:** The posttest scores of the students out of 100\n",
        "\n",
        "---\n",
        "\n",
        "\n",
        "\n",
        "**IMPORTANT NOTE: When training our models we use the posttest as our target variable. The target variable is the answer you are trying to obtain. We need this for training, but we don't use this for our test set or when trying to predict this value with new data.**"
      ],
      "metadata": {
        "id": "OCygHAiqfSbl"
      }
    },
    {
      "cell_type": "markdown",
      "source": [
        "# Exploratory Data Analysis (EDA)\n",
        "\n",
        "\n",
        "---\n",
        "\n",
        "Now that we understand a little bit about where our data came from and what the features mean, it's time for us to do some programmatic exploratory data analysis (EDA). Here we will use the Panda's package (install pandas as pd), to investigate the data."
      ],
      "metadata": {
        "id": "Kzwb6kVFo_XV"
      }
    },
    {
      "cell_type": "markdown",
      "source": [
        "**Let's look at the data.** Run the code block below. Here's what's happening in your code:\n",
        "\n",
        "\n",
        "*   You are inserting data from the ***test_data.csv*** file into the colab notebook\n",
        "*   You are converting your csv data into a software format called ***Pandas*** so we can analyze it easier\n",
        "*   You are showing 5 records of the table in the ***Pandas*** format using the .head() function. the df is the variable that stores your data from the csv."
      ],
      "metadata": {
        "id": "JOxFTzH3QGwm"
      }
    },
    {
      "cell_type": "code",
      "execution_count": null,
      "metadata": {
        "id": "nHcJPzIsJxkd",
        "colab": {
          "base_uri": "https://localhost:8080/",
          "height": 206
        },
        "outputId": "9ad3c020-d508-43b7-e5e5-0efcb5d605c6"
      },
      "outputs": [
        {
          "output_type": "execute_result",
          "data": {
            "text/plain": [
              "  school school_setting school_type classroom teaching_method  n_student  \\\n",
              "0  ANKYI          Urban  Non-public       6OL        Standard       20.0   \n",
              "1  ANKYI          Urban  Non-public       6OL        Standard       20.0   \n",
              "2  ANKYI          Urban  Non-public       6OL        Standard       20.0   \n",
              "3  ANKYI          Urban  Non-public       6OL        Standard       20.0   \n",
              "4  ANKYI          Urban  Non-public       6OL        Standard       20.0   \n",
              "\n",
              "  student_id  gender             lunch  pretest  posttest  \n",
              "0      2FHT3  Female  Does not qualify     62.0      72.0  \n",
              "1      3JIVH  Female  Does not qualify     66.0      79.0  \n",
              "2      3XOWE    Male  Does not qualify     64.0      76.0  \n",
              "3      556O0  Female  Does not qualify     61.0      77.0  \n",
              "4      74LOE    Male  Does not qualify     64.0      76.0  "
            ],
            "text/html": [
              "\n",
              "  <div id=\"df-a091d7af-8f88-42a1-a8b3-a2954e8c35d7\" class=\"colab-df-container\">\n",
              "    <div>\n",
              "<style scoped>\n",
              "    .dataframe tbody tr th:only-of-type {\n",
              "        vertical-align: middle;\n",
              "    }\n",
              "\n",
              "    .dataframe tbody tr th {\n",
              "        vertical-align: top;\n",
              "    }\n",
              "\n",
              "    .dataframe thead th {\n",
              "        text-align: right;\n",
              "    }\n",
              "</style>\n",
              "<table border=\"1\" class=\"dataframe\">\n",
              "  <thead>\n",
              "    <tr style=\"text-align: right;\">\n",
              "      <th></th>\n",
              "      <th>school</th>\n",
              "      <th>school_setting</th>\n",
              "      <th>school_type</th>\n",
              "      <th>classroom</th>\n",
              "      <th>teaching_method</th>\n",
              "      <th>n_student</th>\n",
              "      <th>student_id</th>\n",
              "      <th>gender</th>\n",
              "      <th>lunch</th>\n",
              "      <th>pretest</th>\n",
              "      <th>posttest</th>\n",
              "    </tr>\n",
              "  </thead>\n",
              "  <tbody>\n",
              "    <tr>\n",
              "      <th>0</th>\n",
              "      <td>ANKYI</td>\n",
              "      <td>Urban</td>\n",
              "      <td>Non-public</td>\n",
              "      <td>6OL</td>\n",
              "      <td>Standard</td>\n",
              "      <td>20.0</td>\n",
              "      <td>2FHT3</td>\n",
              "      <td>Female</td>\n",
              "      <td>Does not qualify</td>\n",
              "      <td>62.0</td>\n",
              "      <td>72.0</td>\n",
              "    </tr>\n",
              "    <tr>\n",
              "      <th>1</th>\n",
              "      <td>ANKYI</td>\n",
              "      <td>Urban</td>\n",
              "      <td>Non-public</td>\n",
              "      <td>6OL</td>\n",
              "      <td>Standard</td>\n",
              "      <td>20.0</td>\n",
              "      <td>3JIVH</td>\n",
              "      <td>Female</td>\n",
              "      <td>Does not qualify</td>\n",
              "      <td>66.0</td>\n",
              "      <td>79.0</td>\n",
              "    </tr>\n",
              "    <tr>\n",
              "      <th>2</th>\n",
              "      <td>ANKYI</td>\n",
              "      <td>Urban</td>\n",
              "      <td>Non-public</td>\n",
              "      <td>6OL</td>\n",
              "      <td>Standard</td>\n",
              "      <td>20.0</td>\n",
              "      <td>3XOWE</td>\n",
              "      <td>Male</td>\n",
              "      <td>Does not qualify</td>\n",
              "      <td>64.0</td>\n",
              "      <td>76.0</td>\n",
              "    </tr>\n",
              "    <tr>\n",
              "      <th>3</th>\n",
              "      <td>ANKYI</td>\n",
              "      <td>Urban</td>\n",
              "      <td>Non-public</td>\n",
              "      <td>6OL</td>\n",
              "      <td>Standard</td>\n",
              "      <td>20.0</td>\n",
              "      <td>556O0</td>\n",
              "      <td>Female</td>\n",
              "      <td>Does not qualify</td>\n",
              "      <td>61.0</td>\n",
              "      <td>77.0</td>\n",
              "    </tr>\n",
              "    <tr>\n",
              "      <th>4</th>\n",
              "      <td>ANKYI</td>\n",
              "      <td>Urban</td>\n",
              "      <td>Non-public</td>\n",
              "      <td>6OL</td>\n",
              "      <td>Standard</td>\n",
              "      <td>20.0</td>\n",
              "      <td>74LOE</td>\n",
              "      <td>Male</td>\n",
              "      <td>Does not qualify</td>\n",
              "      <td>64.0</td>\n",
              "      <td>76.0</td>\n",
              "    </tr>\n",
              "  </tbody>\n",
              "</table>\n",
              "</div>\n",
              "    <div class=\"colab-df-buttons\">\n",
              "\n",
              "  <div class=\"colab-df-container\">\n",
              "    <button class=\"colab-df-convert\" onclick=\"convertToInteractive('df-a091d7af-8f88-42a1-a8b3-a2954e8c35d7')\"\n",
              "            title=\"Convert this dataframe to an interactive table.\"\n",
              "            style=\"display:none;\">\n",
              "\n",
              "  <svg xmlns=\"http://www.w3.org/2000/svg\" height=\"24px\" viewBox=\"0 -960 960 960\">\n",
              "    <path d=\"M120-120v-720h720v720H120Zm60-500h600v-160H180v160Zm220 220h160v-160H400v160Zm0 220h160v-160H400v160ZM180-400h160v-160H180v160Zm440 0h160v-160H620v160ZM180-180h160v-160H180v160Zm440 0h160v-160H620v160Z\"/>\n",
              "  </svg>\n",
              "    </button>\n",
              "\n",
              "  <style>\n",
              "    .colab-df-container {\n",
              "      display:flex;\n",
              "      gap: 12px;\n",
              "    }\n",
              "\n",
              "    .colab-df-convert {\n",
              "      background-color: #E8F0FE;\n",
              "      border: none;\n",
              "      border-radius: 50%;\n",
              "      cursor: pointer;\n",
              "      display: none;\n",
              "      fill: #1967D2;\n",
              "      height: 32px;\n",
              "      padding: 0 0 0 0;\n",
              "      width: 32px;\n",
              "    }\n",
              "\n",
              "    .colab-df-convert:hover {\n",
              "      background-color: #E2EBFA;\n",
              "      box-shadow: 0px 1px 2px rgba(60, 64, 67, 0.3), 0px 1px 3px 1px rgba(60, 64, 67, 0.15);\n",
              "      fill: #174EA6;\n",
              "    }\n",
              "\n",
              "    .colab-df-buttons div {\n",
              "      margin-bottom: 4px;\n",
              "    }\n",
              "\n",
              "    [theme=dark] .colab-df-convert {\n",
              "      background-color: #3B4455;\n",
              "      fill: #D2E3FC;\n",
              "    }\n",
              "\n",
              "    [theme=dark] .colab-df-convert:hover {\n",
              "      background-color: #434B5C;\n",
              "      box-shadow: 0px 1px 3px 1px rgba(0, 0, 0, 0.15);\n",
              "      filter: drop-shadow(0px 1px 2px rgba(0, 0, 0, 0.3));\n",
              "      fill: #FFFFFF;\n",
              "    }\n",
              "  </style>\n",
              "\n",
              "    <script>\n",
              "      const buttonEl =\n",
              "        document.querySelector('#df-a091d7af-8f88-42a1-a8b3-a2954e8c35d7 button.colab-df-convert');\n",
              "      buttonEl.style.display =\n",
              "        google.colab.kernel.accessAllowed ? 'block' : 'none';\n",
              "\n",
              "      async function convertToInteractive(key) {\n",
              "        const element = document.querySelector('#df-a091d7af-8f88-42a1-a8b3-a2954e8c35d7');\n",
              "        const dataTable =\n",
              "          await google.colab.kernel.invokeFunction('convertToInteractive',\n",
              "                                                    [key], {});\n",
              "        if (!dataTable) return;\n",
              "\n",
              "        const docLinkHtml = 'Like what you see? Visit the ' +\n",
              "          '<a target=\"_blank\" href=https://colab.research.google.com/notebooks/data_table.ipynb>data table notebook</a>'\n",
              "          + ' to learn more about interactive tables.';\n",
              "        element.innerHTML = '';\n",
              "        dataTable['output_type'] = 'display_data';\n",
              "        await google.colab.output.renderOutput(dataTable, element);\n",
              "        const docLink = document.createElement('div');\n",
              "        docLink.innerHTML = docLinkHtml;\n",
              "        element.appendChild(docLink);\n",
              "      }\n",
              "    </script>\n",
              "  </div>\n",
              "\n",
              "\n",
              "    <div id=\"df-5d0e2734-ae32-4082-9712-c88078202eaf\">\n",
              "      <button class=\"colab-df-quickchart\" onclick=\"quickchart('df-5d0e2734-ae32-4082-9712-c88078202eaf')\"\n",
              "                title=\"Suggest charts\"\n",
              "                style=\"display:none;\">\n",
              "\n",
              "<svg xmlns=\"http://www.w3.org/2000/svg\" height=\"24px\"viewBox=\"0 0 24 24\"\n",
              "     width=\"24px\">\n",
              "    <g>\n",
              "        <path d=\"M19 3H5c-1.1 0-2 .9-2 2v14c0 1.1.9 2 2 2h14c1.1 0 2-.9 2-2V5c0-1.1-.9-2-2-2zM9 17H7v-7h2v7zm4 0h-2V7h2v10zm4 0h-2v-4h2v4z\"/>\n",
              "    </g>\n",
              "</svg>\n",
              "      </button>\n",
              "\n",
              "<style>\n",
              "  .colab-df-quickchart {\n",
              "      --bg-color: #E8F0FE;\n",
              "      --fill-color: #1967D2;\n",
              "      --hover-bg-color: #E2EBFA;\n",
              "      --hover-fill-color: #174EA6;\n",
              "      --disabled-fill-color: #AAA;\n",
              "      --disabled-bg-color: #DDD;\n",
              "  }\n",
              "\n",
              "  [theme=dark] .colab-df-quickchart {\n",
              "      --bg-color: #3B4455;\n",
              "      --fill-color: #D2E3FC;\n",
              "      --hover-bg-color: #434B5C;\n",
              "      --hover-fill-color: #FFFFFF;\n",
              "      --disabled-bg-color: #3B4455;\n",
              "      --disabled-fill-color: #666;\n",
              "  }\n",
              "\n",
              "  .colab-df-quickchart {\n",
              "    background-color: var(--bg-color);\n",
              "    border: none;\n",
              "    border-radius: 50%;\n",
              "    cursor: pointer;\n",
              "    display: none;\n",
              "    fill: var(--fill-color);\n",
              "    height: 32px;\n",
              "    padding: 0;\n",
              "    width: 32px;\n",
              "  }\n",
              "\n",
              "  .colab-df-quickchart:hover {\n",
              "    background-color: var(--hover-bg-color);\n",
              "    box-shadow: 0 1px 2px rgba(60, 64, 67, 0.3), 0 1px 3px 1px rgba(60, 64, 67, 0.15);\n",
              "    fill: var(--button-hover-fill-color);\n",
              "  }\n",
              "\n",
              "  .colab-df-quickchart-complete:disabled,\n",
              "  .colab-df-quickchart-complete:disabled:hover {\n",
              "    background-color: var(--disabled-bg-color);\n",
              "    fill: var(--disabled-fill-color);\n",
              "    box-shadow: none;\n",
              "  }\n",
              "\n",
              "  .colab-df-spinner {\n",
              "    border: 2px solid var(--fill-color);\n",
              "    border-color: transparent;\n",
              "    border-bottom-color: var(--fill-color);\n",
              "    animation:\n",
              "      spin 1s steps(1) infinite;\n",
              "  }\n",
              "\n",
              "  @keyframes spin {\n",
              "    0% {\n",
              "      border-color: transparent;\n",
              "      border-bottom-color: var(--fill-color);\n",
              "      border-left-color: var(--fill-color);\n",
              "    }\n",
              "    20% {\n",
              "      border-color: transparent;\n",
              "      border-left-color: var(--fill-color);\n",
              "      border-top-color: var(--fill-color);\n",
              "    }\n",
              "    30% {\n",
              "      border-color: transparent;\n",
              "      border-left-color: var(--fill-color);\n",
              "      border-top-color: var(--fill-color);\n",
              "      border-right-color: var(--fill-color);\n",
              "    }\n",
              "    40% {\n",
              "      border-color: transparent;\n",
              "      border-right-color: var(--fill-color);\n",
              "      border-top-color: var(--fill-color);\n",
              "    }\n",
              "    60% {\n",
              "      border-color: transparent;\n",
              "      border-right-color: var(--fill-color);\n",
              "    }\n",
              "    80% {\n",
              "      border-color: transparent;\n",
              "      border-right-color: var(--fill-color);\n",
              "      border-bottom-color: var(--fill-color);\n",
              "    }\n",
              "    90% {\n",
              "      border-color: transparent;\n",
              "      border-bottom-color: var(--fill-color);\n",
              "    }\n",
              "  }\n",
              "</style>\n",
              "\n",
              "      <script>\n",
              "        async function quickchart(key) {\n",
              "          const quickchartButtonEl =\n",
              "            document.querySelector('#' + key + ' button');\n",
              "          quickchartButtonEl.disabled = true;  // To prevent multiple clicks.\n",
              "          quickchartButtonEl.classList.add('colab-df-spinner');\n",
              "          try {\n",
              "            const charts = await google.colab.kernel.invokeFunction(\n",
              "                'suggestCharts', [key], {});\n",
              "          } catch (error) {\n",
              "            console.error('Error during call to suggestCharts:', error);\n",
              "          }\n",
              "          quickchartButtonEl.classList.remove('colab-df-spinner');\n",
              "          quickchartButtonEl.classList.add('colab-df-quickchart-complete');\n",
              "        }\n",
              "        (() => {\n",
              "          let quickchartButtonEl =\n",
              "            document.querySelector('#df-5d0e2734-ae32-4082-9712-c88078202eaf button');\n",
              "          quickchartButtonEl.style.display =\n",
              "            google.colab.kernel.accessAllowed ? 'block' : 'none';\n",
              "        })();\n",
              "      </script>\n",
              "    </div>\n",
              "\n",
              "    </div>\n",
              "  </div>\n"
            ],
            "application/vnd.google.colaboratory.intrinsic+json": {
              "type": "dataframe",
              "variable_name": "df",
              "summary": "{\n  \"name\": \"df\",\n  \"rows\": 2133,\n  \"fields\": [\n    {\n      \"column\": \"school\",\n      \"properties\": {\n        \"dtype\": \"category\",\n        \"num_unique_values\": 23,\n        \"samples\": [\n          \"UAGPU\",\n          \"IDGFP\",\n          \"ANKYI\"\n        ],\n        \"semantic_type\": \"\",\n        \"description\": \"\"\n      }\n    },\n    {\n      \"column\": \"school_setting\",\n      \"properties\": {\n        \"dtype\": \"category\",\n        \"num_unique_values\": 3,\n        \"samples\": [\n          \"Urban\",\n          \"Suburban\",\n          \"Rural\"\n        ],\n        \"semantic_type\": \"\",\n        \"description\": \"\"\n      }\n    },\n    {\n      \"column\": \"school_type\",\n      \"properties\": {\n        \"dtype\": \"category\",\n        \"num_unique_values\": 2,\n        \"samples\": [\n          \"Public\",\n          \"Non-public\"\n        ],\n        \"semantic_type\": \"\",\n        \"description\": \"\"\n      }\n    },\n    {\n      \"column\": \"classroom\",\n      \"properties\": {\n        \"dtype\": \"category\",\n        \"num_unique_values\": 97,\n        \"samples\": [\n          \"XZ4\",\n          \"G2L\"\n        ],\n        \"semantic_type\": \"\",\n        \"description\": \"\"\n      }\n    },\n    {\n      \"column\": \"teaching_method\",\n      \"properties\": {\n        \"dtype\": \"category\",\n        \"num_unique_values\": 2,\n        \"samples\": [\n          \"Experimental\",\n          \"Standard\"\n        ],\n        \"semantic_type\": \"\",\n        \"description\": \"\"\n      }\n    },\n    {\n      \"column\": \"n_student\",\n      \"properties\": {\n        \"dtype\": \"number\",\n        \"std\": 4.228892753971921,\n        \"min\": 14.0,\n        \"max\": 31.0,\n        \"num_unique_values\": 18,\n        \"samples\": [\n          20.0,\n          21.0\n        ],\n        \"semantic_type\": \"\",\n        \"description\": \"\"\n      }\n    },\n    {\n      \"column\": \"student_id\",\n      \"properties\": {\n        \"dtype\": \"string\",\n        \"num_unique_values\": 2133,\n        \"samples\": [\n          \"1M80R\",\n          \"WV4F0\"\n        ],\n        \"semantic_type\": \"\",\n        \"description\": \"\"\n      }\n    },\n    {\n      \"column\": \"gender\",\n      \"properties\": {\n        \"dtype\": \"category\",\n        \"num_unique_values\": 2,\n        \"samples\": [\n          \"Male\",\n          \"Female\"\n        ],\n        \"semantic_type\": \"\",\n        \"description\": \"\"\n      }\n    },\n    {\n      \"column\": \"lunch\",\n      \"properties\": {\n        \"dtype\": \"category\",\n        \"num_unique_values\": 2,\n        \"samples\": [\n          \"Qualifies for reduced/free lunch\",\n          \"Does not qualify\"\n        ],\n        \"semantic_type\": \"\",\n        \"description\": \"\"\n      }\n    },\n    {\n      \"column\": \"pretest\",\n      \"properties\": {\n        \"dtype\": \"number\",\n        \"std\": 13.563101388223421,\n        \"min\": 22.0,\n        \"max\": 93.0,\n        \"num_unique_values\": 69,\n        \"samples\": [\n          72.0,\n          62.0\n        ],\n        \"semantic_type\": \"\",\n        \"description\": \"\"\n      }\n    },\n    {\n      \"column\": \"posttest\",\n      \"properties\": {\n        \"dtype\": \"number\",\n        \"std\": 13.98678885581114,\n        \"min\": 32.0,\n        \"max\": 100.0,\n        \"num_unique_values\": 68,\n        \"samples\": [\n          42.0,\n          82.0\n        ],\n        \"semantic_type\": \"\",\n        \"description\": \"\"\n      }\n    }\n  ]\n}"
            }
          },
          "metadata": {},
          "execution_count": 8
        }
      ],
      "source": [
        "# Code to insert test_scores.csv data into a variable called df\n",
        "# The df.head() command displays the top 5 records from the test_scores.csv file\n",
        "\n",
        "df = pd.read_csv(\"/content/test_scores.csv\")\n",
        "df.head()"
      ]
    },
    {
      "cell_type": "markdown",
      "source": [
        "Take a second and scroll back up to the microsoft excel image above and compare.\n",
        "\n",
        "---\n",
        "\n",
        "As you can see, the same data is represented here where each row is a record of one student and each column represents a feature that describes that student's ability to take the test.\n",
        "\n",
        "** **one thing to point out again is that this record still includes the posttest. This is used in training, but not in testing. We will reiterate that more as we move forward.**"
      ],
      "metadata": {
        "id": "gzWamuVLSRjV"
      }
    },
    {
      "cell_type": "markdown",
      "source": [
        "## Normal(ish) Distribution\n",
        "\n",
        "Earlier we mentioned that the dataset largely follows a trend that is generally considered the normal distribution. This is a trend that is seen in many datasets and topics and is desirable to use as a model because we can use a variety of statistical methods to analyze this type of data. This type of distribution typically stabilizes variance and minimizes skewness (more on this in a later tutorial). The image below displays our data as a normal(ish) distribution. We call this normal(ish) because there is some outlier variation in the middle scores.\n",
        "\n",
        "\n",
        "---\n",
        "***It is important to note that some other projects have done a strict analysis of this dataset and do not believe it completely follows the normal distribution. Since we are only trying to explain the fact that most people on this test will fit into the average category, we believe our description is valid and does not need a strict interpretation.***"
      ],
      "metadata": {
        "id": "9jn_EtrbxFfJ"
      }
    },
    {
      "cell_type": "code",
      "source": [
        "bar_color=\"#027ffc\"\n",
        "# plot\n",
        "fig = sns.histplot(data=df,\n",
        "                   x=\"posttest\",\n",
        "                   kde=True,\n",
        "                   stat=\"probability\",\n",
        "                   color=bar_color\n",
        "                  );\n",
        "\n",
        "plt.title(\"Distribution of post-test score\", fontweight=\"bold\", fontsize=18)\n",
        "plt.xlabel(\"Score\")"
      ],
      "metadata": {
        "colab": {
          "base_uri": "https://localhost:8080/",
          "height": 494
        },
        "id": "oA6vy83Eyn53",
        "outputId": "9f786a71-80b9-4b2f-cf7b-43ccc41624a7"
      },
      "execution_count": null,
      "outputs": [
        {
          "output_type": "execute_result",
          "data": {
            "text/plain": [
              "Text(0.5, 0, 'Score')"
            ]
          },
          "metadata": {},
          "execution_count": 9
        },
        {
          "output_type": "display_data",
          "data": {
            "text/plain": [
              "<Figure size 640x480 with 1 Axes>"
            ],
            "image/png": "[encoded data removed]"
          },
          "metadata": {}
        }
      ]
    },
    {
      "cell_type": "markdown",
      "source": [
        "#Tutorial 1 Complete!\n",
        "That's it for tutorial 1! In the next tutorial notebook we will explore more charts and analysis of the data to get a better understanding of the features that will factor into the model training and why the **\"weights\"** of those features are important. Let me know how helpful this has been and we appreciate any other feedback!"
      ],
      "metadata": {
        "id": "k7wZVmLgJhs8"
      }
    }
  ]
}
